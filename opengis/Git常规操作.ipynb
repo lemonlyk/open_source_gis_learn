{
 "cells": [
  {
   "cell_type": "markdown",
   "id": "214aa088-999b-41ff-93ee-065b0e3edfb5",
   "metadata": {},
   "source": [
    "配置了git的用户名和电子邮件地址"
   ]
  },
  {
   "cell_type": "code",
   "execution_count": null,
   "id": "324e4260-b862-4907-9fd8-c93e4c4dda46",
   "metadata": {},
   "outputs": [],
   "source": [
    "git config --global user.name \"Your Name\"  #设置你的Git用户名\n",
    "git config --global user.email \"you@example.com\"  #设置你的Git电子邮件地址\n",
    "git config user.name  #查看设置的git用户信息\n",
    "git config user.email  #查看设置的gitemail信息"
   ]
  },
  {
   "cell_type": "markdown",
   "id": "a850b24f-9ee5-4b6a-8ac3-a443ba5ef00e",
   "metadata": {},
   "source": [
    "克隆远程仓库"
   ]
  },
  {
   "cell_type": "code",
   "execution_count": null,
   "id": "52ae78e9-bba7-46bf-9f39-1a3bff6712c2",
   "metadata": {},
   "outputs": [],
   "source": [
    "git clone [remote-repository-url]"
   ]
  },
  {
   "cell_type": "markdown",
   "id": "a934a05c-bee7-494f-b3d0-5f05b552a32c",
   "metadata": {},
   "source": [
    "创建新的分支（如果需要）：\n",
    "如果你打算进行新的开发，最好从当前分支创建一个新的分支。"
   ]
  },
  {
   "cell_type": "code",
   "execution_count": null,
   "id": "f2b20f37-53f3-4149-9215-ba7d0915a863",
   "metadata": {},
   "outputs": [],
   "source": [
    "git checkout -b new-branch-name"
   ]
  },
  {
   "cell_type": "markdown",
   "id": "890bfb2a-d3d0-4568-b4b3-9239c757e7ae",
   "metadata": {},
   "source": [
    "添加更改到暂存区：\n",
    "使用git add将更改的文件添加到暂存区，准备提交。"
   ]
  },
  {
   "cell_type": "code",
   "execution_count": null,
   "id": "c4bdbe32-0e83-4110-9fcc-903032b4aad9",
   "metadata": {},
   "outputs": [],
   "source": [
    "git add <文件路径> #文件没有被添加\n",
    "git add . #添加所有更改过的文件"
   ]
  },
  {
   "cell_type": "markdown",
   "id": "b7530b1f-4bca-4a21-8edd-61d76d7f108d",
   "metadata": {},
   "source": [
    "检查文件是否被正确添加："
   ]
  },
  {
   "cell_type": "code",
   "execution_count": null,
   "id": "743e6734-84dc-4a0e-9fc3-01d5313c1195",
   "metadata": {},
   "outputs": [],
   "source": [
    "git status"
   ]
  },
  {
   "cell_type": "markdown",
   "id": "26244b88-ea2a-409a-8f4b-b7a252844130",
   "metadata": {},
   "source": [
    "提交更改"
   ]
  },
  {
   "cell_type": "code",
   "execution_count": null,
   "id": "06c4a41e-ba1c-490e-896c-8ecf71553764",
   "metadata": {},
   "outputs": [],
   "source": [
    "git commit -m \"你的提交信息\""
   ]
  },
  {
   "cell_type": "markdown",
   "id": "575bb9f7-f878-46b4-8f1d-487d3f4305b5",
   "metadata": {},
   "source": [
    "拉取远程仓库的最新更改（如果需要）：\n",
    "在推送之前，你可能需要拉取远程仓库的最新更改，以避免潜在的合并冲突。"
   ]
  },
  {
   "cell_type": "code",
   "execution_count": null,
   "id": "759dd362-d746-4c50-aa27-3c6390ee83c6",
   "metadata": {},
   "outputs": [],
   "source": [
    "git pull origin [branch-name]"
   ]
  },
  {
   "cell_type": "markdown",
   "id": "10e99831-3a08-4d6d-ac1d-91e207a4c5a5",
   "metadata": {},
   "source": [
    "推送更改到远程仓库：\n",
    "将你的本地提交推送到远程仓库。"
   ]
  },
  {
   "cell_type": "code",
   "execution_count": null,
   "id": "2f07892a-904f-4d64-b344-e426afdd2dc7",
   "metadata": {},
   "outputs": [],
   "source": [
    "git push origin [branch-name]  \n",
    "#origin：这是远程仓库的默认名称。\n",
    "#[branch-name]：这是你想要推送的本地分支的名称。"
   ]
  },
  {
   "cell_type": "markdown",
   "id": "94508104-cf13-4d6e-a581-782dd52b8caa",
   "metadata": {},
   "source": [
    "第一次推送前还有个git授权，这个不是太懂，有空的时候弄个ssh授权"
   ]
  }
 ],
 "metadata": {
  "kernelspec": {
   "display_name": "Python 3 (ipykernel)",
   "language": "python",
   "name": "python3"
  },
  "language_info": {
   "codemirror_mode": {
    "name": "ipython",
    "version": 3
   },
   "file_extension": ".py",
   "mimetype": "text/x-python",
   "name": "python",
   "nbconvert_exporter": "python",
   "pygments_lexer": "ipython3",
   "version": "3.11.5"
  }
 },
 "nbformat": 4,
 "nbformat_minor": 5
}
