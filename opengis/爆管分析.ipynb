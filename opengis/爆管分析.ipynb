{
 "cells": [
  {
   "cell_type": "code",
   "execution_count": null,
   "id": "4efc7e4e-956c-4d66-a323-6d45498b748c",
   "metadata": {},
   "outputs": [],
   "source": [
    "#查看pgRouting版本\n",
    "SELECT pgr_version();\n",
    "\n"
   ]
  },
  {
   "cell_type": "markdown",
   "id": "ef36005e-b438-448f-a801-ad26cf553d3a",
   "metadata": {},
   "source": [
    "**参考**\n",
    "\n",
    "[PostGIS 爆管分析实战记录之更新日志&&BUG修改](https://blog.csdn.net/guzicheng1990/article/details/106186889?spm=1001.2014.3001.5502)\n",
    "\n",
    "[PostGIS 爆管分析管网、阀门数据处理，并导出shp](https://blog.csdn.net/guzicheng1990/article/details/104615783?spm=1001.2014.3001.5502)\n",
    "\n",
    "[PostGIS 爆管分析之找出上游阀门（优化版）](https://blog.csdn.net/guzicheng1990/article/details/103682387?spm=1001.2014.3001.5502)\n",
    "\n",
    "[PostGIS 爆管分析之找出总阀门](https://blog.csdn.net/guzicheng1990/article/details/102668398?spm=1001.2014.3001.5502)\n",
    "\n",
    "[PostGIS 爆管分析之找出上游阀门](https://blog.csdn.net/guzicheng1990/article/details/102668381?spm=1001.2014.3001.5502)\n",
    "\n",
    "[PostGIS 爆管分析之根据爆点找出所有影响阀门](https://blog.csdn.net/guzicheng1990/article/details/102525100?spm=1001.2014.3001.5502)\n",
    "\n",
    "[]()\n",
    "\n",
    "[]()\n",
    "\n",
    "[]()\n",
    "\n",
    "[]()"
   ]
  },
  {
   "cell_type": "markdown",
   "id": "0570e77c-cbda-4cd7-aafc-568d4bf7c032",
   "metadata": {},
   "source": [
    "**数据处理**"
   ]
  },
  {
   "cell_type": "code",
   "execution_count": null,
   "id": "96d76824-1b63-4654-a154-445a30dea231",
   "metadata": {},
   "outputs": [],
   "source": [
    "--阀门目前暂用路网拓扑处理后的节点数据，作为例子数据\n",
    "\n",
    "--添加字段\n",
    "ALTER TABLE zy_vertices_pgr ADD COLUMN x1 double precision;\n",
    "ALTER TABLE zy_vertices_pgr ADD COLUMN y1 double precision;\n",
    "ALTER TABLE zy_vertices_pgr ADD COLUMN gid integer;\n",
    "\n",
    "--更新数据\n",
    "--线的起点阀门赋值\n",
    "update zy_vertices_pgr a set x1 = b.x1,y1=b.y1,gid = b.id from zy b where a.id = b.source\n",
    "--阀门只在线的终点上\n",
    "update zy_vertices_pgr a set x1 = b.x1,y1=b.y1,gid = b.id from zy b where a.id = b.target and a.id not in (select source from zy) and a.id in (select target from zy)\n",
    "\n",
    "--检查数据更新对不对\n",
    "select a.gid,a.x1,a.y1,b.gid,b.x1,b.y1 from fm a left join zy b on a.gid =b.gid\n",
    "\n",
    "--将x1、y1坐标更新到geom字段\n",
    "--update fm set geom = ST_Geometryfromtext(‘point(’||x1||’ ‘||y1||’)’,3857);\n",
    "\n",
    "--查看阀门是否都在管网上\n",
    "--select a.id from zy_vertices_pgr a, zy b where ST_intersects(a.geom,b.geom)\n"
   ]
  }
 ],
 "metadata": {
  "kernelspec": {
   "display_name": "Python 3 (ipykernel)",
   "language": "python",
   "name": "python3"
  },
  "language_info": {
   "codemirror_mode": {
    "name": "ipython",
    "version": 3
   },
   "file_extension": ".py",
   "mimetype": "text/x-python",
   "name": "python",
   "nbconvert_exporter": "python",
   "pygments_lexer": "ipython3",
   "version": "3.11.5"
  }
 },
 "nbformat": 4,
 "nbformat_minor": 5
}
