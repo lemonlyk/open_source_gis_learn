{
 "cells": [
  {
   "cell_type": "markdown",
   "id": "acf38ed8-6a22-42f0-a6c5-71850f9b4af3",
   "metadata": {},
   "source": [
    "管线数据处理"
   ]
  },
  {
   "cell_type": "code",
   "execution_count": null,
   "id": "e9e707a4-d991-400b-9aa3-4b5e22bf5aac",
   "metadata": {},
   "outputs": [],
   "source": [
    "软件环境\n",
    "\n",
    "操作系统：Win10 pro\n",
    "数据库：postgreSQL9.5 + postgis2.5\n",
    "Gis桌面端：Arcgis10.7，Udig2.0"
   ]
  },
  {
   "cell_type": "code",
   "execution_count": null,
   "id": "fc5bf386-8042-4d91-90c1-9c996f8a4b5a",
   "metadata": {},
   "outputs": [],
   "source": [
    "名词\n",
    "PostgreSQL：是一个开源的关系型数据库管理系统（RDBMS），它以其高度的可扩展性、可靠性和对SQL标准的支持而闻名。\n",
    "PostGIS：是一个基于PostgreSQL数据库的空间数据库扩展，为地理信息系统提供了坚实的数据存储和处理能力，是GIS专业人士和开发者在进行空间数据分析时的常用工具之一。\n",
    "GeoServer : GeoServer是一个服务器软件，可以发布地图数据到Web上，支持多种数据源和多种地图服务标准。\n",
    "OpenLayers : OpenLayers是一个广泛使用的开源JavaScript库，专门用于创建交互式的Web地图，它支持多种地图服务接口。\n",
    "uDig是一个开源桌面地理信息系统（Desktop GIS）。是基于Eclipse Rich Client Platform (RCP) 和GeoTools开发的，它支持OpenGIS组织发布的公共标准，尤其支持Web地图服务器（WMS）和Web功能服务器（WFS）标准。它既可以作为一个独立的应用程序使用，也可以作为开发新的桌面因特网GIS应用程序的框架。uDig提供了一系列的功能，包括地图查看、编辑、空间数据分析等，适用于需要处理地理空间数据的用户。"
   ]
  },
  {
   "cell_type": "code",
   "execution_count": null,
   "id": "7944c145-4677-450b-91c8-520e472eda7e",
   "metadata": {},
   "outputs": [],
   "source": []
  }
 ],
 "metadata": {
  "kernelspec": {
   "display_name": "Python 3 (ipykernel)",
   "language": "python",
   "name": "python3"
  },
  "language_info": {
   "codemirror_mode": {
    "name": "ipython",
    "version": 3
   },
   "file_extension": ".py",
   "mimetype": "text/x-python",
   "name": "python",
   "nbconvert_exporter": "python",
   "pygments_lexer": "ipython3",
   "version": "3.11.5"
  }
 },
 "nbformat": 4,
 "nbformat_minor": 5
}
